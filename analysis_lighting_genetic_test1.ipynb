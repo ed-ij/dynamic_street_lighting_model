{
 "cells": [
  {
   "cell_type": "markdown",
   "metadata": {},
   "source": [
    "# Agent-Based Lighting Model Initial Tests"
   ]
  },
  {
   "cell_type": "code",
   "execution_count": 1,
   "metadata": {},
   "outputs": [],
   "source": [
    "import pandas as pd\n",
    "import numpy as np\n",
    "import matplotlib.pyplot as plt\n",
    "import time\n",
    "import seaborn as sns\n",
    "sns.set_theme()\n",
    "\n",
    "from numpy.random import default_rng\n",
    "\n",
    "rng = default_rng()\n",
    "\n",
    "plt.rcParams['figure.figsize'] = [6, 4]\n",
    "plt.rcParams['figure.dpi'] = 300\n",
    "\n",
    "\n",
    "generate_new = True\n",
    "l1_load_file = 'data/lighting_1_constant_df_' + '210422_2151' + '.pkl'\n",
    "l2_load_file = 'data/lighting_1_variable_df_' + '210422_2151' + '.pkl'\n",
    "\n",
    "from model import NaSchTraffic\n",
    "from mesa.batchrunner import BatchRunner"
   ]
  },
  {
   "cell_type": "code",
   "execution_count": 2,
   "outputs": [],
   "source": [
    "# Shared parameters\n",
    "test_width = 200\n",
    "test_density = 0.01\n",
    "test_max_speed = 5\n",
    "test_k_params = (0.3,    # k0: Offset\n",
    "                0.2,    # k1: Lit state\n",
    "                0.6,    # k2: Sensor state\n",
    "                0.5,    # k3: Light N-1\n",
    "                0.2,    # k4: Light N-2\n",
    "                0.1,    # k5: Light N+1\n",
    "                0.0)    # k6: Light N+2\n",
    "\n",
    "test_length = 1000\n",
    "test_iters = 15\n",
    "\n",
    "def get_average_power(model):\n",
    "    '''\n",
    "    Find the average power over the steps after equilibrium is reached.\n",
    "    '''\n",
    "    return np.average(model.power_averages[int(test_length/5):])\n",
    "\n",
    "def get_average_perceived_lighting(model):\n",
    "    '''\n",
    "    Find the average perceived lighting over the steps after equilibrium is reached.\n",
    "    '''\n",
    "\n",
    "    return np.average(model.perceived_lighting_averages[int(test_length/5):])\n",
    "\n",
    "def get_max_std_perceived_lighting(model):\n",
    "    '''\n",
    "    Find the max standard deviation of the perceived lighting over the steps after equilibrium is reached.\n",
    "    '''\n",
    "\n",
    "    return np.max(model.max_stds_perceived_lighting[int(test_length/5):])\n",
    "\n",
    "model_reporters={\n",
    "    'Averaged_Power': get_average_power,\n",
    "    'Averaged_Perceived_Lighting': get_average_perceived_lighting,\n",
    "    'Max_STD_Perceived_Lighting': get_max_std_perceived_lighting,\n",
    "}"
   ],
   "metadata": {
    "collapsed": false,
    "pycharm": {
     "name": "#%%\n"
    }
   }
  },
  {
   "cell_type": "code",
   "execution_count": 3,
   "metadata": {},
   "outputs": [
    {
     "name": "stderr",
     "output_type": "stream",
     "text": [
      "0it [00:00, ?it/s]"
     ]
    },
    {
     "name": "stdout",
     "output_type": "stream",
     "text": [
      "Running 15 model iterations:\n"
     ]
    },
    {
     "name": "stderr",
     "output_type": "stream",
     "text": [
      "15it [00:06,  2.21it/s]\n"
     ]
    }
   ],
   "source": [
    "if generate_new:\n",
    "\n",
    "    density_distro = np.linspace(0.01, 0.1, 4)\n",
    "    \n",
    "    l1_fixed_params = {'width': test_width,\n",
    "                       'vehicle_density': test_density,\n",
    "                       'general_max_speed': test_max_speed,\n",
    "                       'lighting_model_type': 1,\n",
    "                       'k_parameters': test_k_params,\n",
    "                       }\n",
    "    l1_variable_params = {'vehicle_density': density_distro\n",
    "                       }\n",
    "\n",
    "    l1_param_sweep = BatchRunner(NaSchTraffic,\n",
    "                                 # variable_parameters=l1_variable_params,\n",
    "                                 fixed_parameters=l1_fixed_params,\n",
    "                                 iterations=test_iters,\n",
    "                                 max_steps=test_length,\n",
    "                                 model_reporters=model_reporters,\n",
    "                                 display_progress=True)\n",
    "\n",
    "    print(\"Running \" + str(test_iters) +\" model iterations:\")\n",
    "    l1_param_sweep.run_all()"
   ]
  },
  {
   "cell_type": "code",
   "execution_count": 4,
   "outputs": [
    {
     "data": {
      "text/plain": "   Run  Averaged_Perceived_Lighting  Averaged_Power  \\\n0  200                    51.357542        65.33897   \n1  200                    44.595625        65.33897   \n2  200                    41.140208        65.33897   \n3  200                    41.978292        65.33897   \n4  200                    51.814167        65.33897   \n\n   Max_STD_Perceived_Lighting  width  vehicle_density  general_max_speed  \\\n0                   18.429324    200             0.01                  5   \n1                   18.429324    200             0.01                  5   \n2                   18.429324    200             0.01                  5   \n3                   18.429324    200             0.01                  5   \n4                   18.429324    200             0.01                  5   \n\n   lighting_model_type                         k_parameters  \n0                    1  (0.3, 0.2, 0.6, 0.5, 0.2, 0.1, 0.0)  \n1                    1  (0.3, 0.2, 0.6, 0.5, 0.2, 0.1, 0.0)  \n2                    1  (0.3, 0.2, 0.6, 0.5, 0.2, 0.1, 0.0)  \n3                    1  (0.3, 0.2, 0.6, 0.5, 0.2, 0.1, 0.0)  \n4                    1  (0.3, 0.2, 0.6, 0.5, 0.2, 0.1, 0.0)  ",
      "text/html": "<div>\n<style scoped>\n    .dataframe tbody tr th:only-of-type {\n        vertical-align: middle;\n    }\n\n    .dataframe tbody tr th {\n        vertical-align: top;\n    }\n\n    .dataframe thead th {\n        text-align: right;\n    }\n</style>\n<table border=\"1\" class=\"dataframe\">\n  <thead>\n    <tr style=\"text-align: right;\">\n      <th></th>\n      <th>Run</th>\n      <th>Averaged_Perceived_Lighting</th>\n      <th>Averaged_Power</th>\n      <th>Max_STD_Perceived_Lighting</th>\n      <th>width</th>\n      <th>vehicle_density</th>\n      <th>general_max_speed</th>\n      <th>lighting_model_type</th>\n      <th>k_parameters</th>\n    </tr>\n  </thead>\n  <tbody>\n    <tr>\n      <th>0</th>\n      <td>200</td>\n      <td>51.357542</td>\n      <td>65.33897</td>\n      <td>18.429324</td>\n      <td>200</td>\n      <td>0.01</td>\n      <td>5</td>\n      <td>1</td>\n      <td>(0.3, 0.2, 0.6, 0.5, 0.2, 0.1, 0.0)</td>\n    </tr>\n    <tr>\n      <th>1</th>\n      <td>200</td>\n      <td>44.595625</td>\n      <td>65.33897</td>\n      <td>18.429324</td>\n      <td>200</td>\n      <td>0.01</td>\n      <td>5</td>\n      <td>1</td>\n      <td>(0.3, 0.2, 0.6, 0.5, 0.2, 0.1, 0.0)</td>\n    </tr>\n    <tr>\n      <th>2</th>\n      <td>200</td>\n      <td>41.140208</td>\n      <td>65.33897</td>\n      <td>18.429324</td>\n      <td>200</td>\n      <td>0.01</td>\n      <td>5</td>\n      <td>1</td>\n      <td>(0.3, 0.2, 0.6, 0.5, 0.2, 0.1, 0.0)</td>\n    </tr>\n    <tr>\n      <th>3</th>\n      <td>200</td>\n      <td>41.978292</td>\n      <td>65.33897</td>\n      <td>18.429324</td>\n      <td>200</td>\n      <td>0.01</td>\n      <td>5</td>\n      <td>1</td>\n      <td>(0.3, 0.2, 0.6, 0.5, 0.2, 0.1, 0.0)</td>\n    </tr>\n    <tr>\n      <th>4</th>\n      <td>200</td>\n      <td>51.814167</td>\n      <td>65.33897</td>\n      <td>18.429324</td>\n      <td>200</td>\n      <td>0.01</td>\n      <td>5</td>\n      <td>1</td>\n      <td>(0.3, 0.2, 0.6, 0.5, 0.2, 0.1, 0.0)</td>\n    </tr>\n  </tbody>\n</table>\n</div>"
     },
     "execution_count": 4,
     "metadata": {},
     "output_type": "execute_result"
    }
   ],
   "source": [
    "if generate_new:\n",
    "    l1_df = l1_param_sweep.get_model_vars_dataframe()\n",
    "    l1_df_sorted = l1_df.sort_values('Averaged_Power')\n",
    "    # SAVE TO FILE\n",
    "    # time_str = time.strftime('%y%m%d_%H%M')\n",
    "    # l1_df_sorted.to_pickle('data/l1_genetic_df_' + time_str + '.pkl')\n",
    "else:\n",
    "    # LOAD FROM FILE\n",
    "    l1_df = pd.read_pickle(l1_load_file)\n",
    "\n",
    "l1_df.head()\n"
   ],
   "metadata": {
    "collapsed": false,
    "pycharm": {
     "name": "#%%\n"
    }
   }
  },
  {
   "cell_type": "code",
   "execution_count": 5,
   "outputs": [
    {
     "name": "stderr",
     "output_type": "stream",
     "text": [
      "0it [00:00, ?it/s]"
     ]
    },
    {
     "name": "stdout",
     "output_type": "stream",
     "text": [
      "Running 15 model iterations:\n"
     ]
    },
    {
     "name": "stderr",
     "output_type": "stream",
     "text": [
      "15it [00:10,  1.37it/s]\n"
     ]
    }
   ],
   "source": [
    "if generate_new:\n",
    "\n",
    "    density_distro = np.linspace(0.01, 0.1, 4)\n",
    "\n",
    "    l2_fixed_params = {'width': test_width,\n",
    "                       'vehicle_density': test_density,\n",
    "                       'general_max_speed': test_max_speed,\n",
    "                       'lighting_model_type': 2,\n",
    "                       'k_parameters': test_k_params,\n",
    "                       }\n",
    "    l2_variable_params = {'vehicle_density': density_distro\n",
    "                       }\n",
    "\n",
    "    l2_param_sweep = BatchRunner(NaSchTraffic,\n",
    "                                 # variable_parameters=l2_variable_params,\n",
    "                                 fixed_parameters=l2_fixed_params,\n",
    "                                 iterations=test_iters,\n",
    "                                 max_steps=test_length,\n",
    "                                 model_reporters=model_reporters,\n",
    "                                 display_progress=True)\n",
    "\n",
    "    print(\"Running \" + str(test_iters) +\" model iterations:\")\n",
    "    l2_param_sweep.run_all()"
   ],
   "metadata": {
    "collapsed": false,
    "pycharm": {
     "name": "#%%\n"
    }
   }
  },
  {
   "cell_type": "code",
   "execution_count": 6,
   "outputs": [
    {
     "data": {
      "text/plain": "   Run  Averaged_Perceived_Lighting  Averaged_Power  \\\n0  200                    31.340764       29.981131   \n1  200                    42.112083       31.720215   \n2  200                    35.780509       31.730460   \n3  200                    36.141208       31.674984   \n4  200                    42.040430       31.669377   \n\n   Max_STD_Perceived_Lighting  width  vehicle_density  general_max_speed  \\\n0                   19.765244    200             0.01                  5   \n1                   19.765244    200             0.01                  5   \n2                   19.765244    200             0.01                  5   \n3                   19.765244    200             0.01                  5   \n4                   19.765244    200             0.01                  5   \n\n   lighting_model_type                         k_parameters  \n0                    2  (0.3, 0.2, 0.6, 0.5, 0.2, 0.1, 0.0)  \n1                    2  (0.3, 0.2, 0.6, 0.5, 0.2, 0.1, 0.0)  \n2                    2  (0.3, 0.2, 0.6, 0.5, 0.2, 0.1, 0.0)  \n3                    2  (0.3, 0.2, 0.6, 0.5, 0.2, 0.1, 0.0)  \n4                    2  (0.3, 0.2, 0.6, 0.5, 0.2, 0.1, 0.0)  ",
      "text/html": "<div>\n<style scoped>\n    .dataframe tbody tr th:only-of-type {\n        vertical-align: middle;\n    }\n\n    .dataframe tbody tr th {\n        vertical-align: top;\n    }\n\n    .dataframe thead th {\n        text-align: right;\n    }\n</style>\n<table border=\"1\" class=\"dataframe\">\n  <thead>\n    <tr style=\"text-align: right;\">\n      <th></th>\n      <th>Run</th>\n      <th>Averaged_Perceived_Lighting</th>\n      <th>Averaged_Power</th>\n      <th>Max_STD_Perceived_Lighting</th>\n      <th>width</th>\n      <th>vehicle_density</th>\n      <th>general_max_speed</th>\n      <th>lighting_model_type</th>\n      <th>k_parameters</th>\n    </tr>\n  </thead>\n  <tbody>\n    <tr>\n      <th>0</th>\n      <td>200</td>\n      <td>31.340764</td>\n      <td>29.981131</td>\n      <td>19.765244</td>\n      <td>200</td>\n      <td>0.01</td>\n      <td>5</td>\n      <td>2</td>\n      <td>(0.3, 0.2, 0.6, 0.5, 0.2, 0.1, 0.0)</td>\n    </tr>\n    <tr>\n      <th>1</th>\n      <td>200</td>\n      <td>42.112083</td>\n      <td>31.720215</td>\n      <td>19.765244</td>\n      <td>200</td>\n      <td>0.01</td>\n      <td>5</td>\n      <td>2</td>\n      <td>(0.3, 0.2, 0.6, 0.5, 0.2, 0.1, 0.0)</td>\n    </tr>\n    <tr>\n      <th>2</th>\n      <td>200</td>\n      <td>35.780509</td>\n      <td>31.730460</td>\n      <td>19.765244</td>\n      <td>200</td>\n      <td>0.01</td>\n      <td>5</td>\n      <td>2</td>\n      <td>(0.3, 0.2, 0.6, 0.5, 0.2, 0.1, 0.0)</td>\n    </tr>\n    <tr>\n      <th>3</th>\n      <td>200</td>\n      <td>36.141208</td>\n      <td>31.674984</td>\n      <td>19.765244</td>\n      <td>200</td>\n      <td>0.01</td>\n      <td>5</td>\n      <td>2</td>\n      <td>(0.3, 0.2, 0.6, 0.5, 0.2, 0.1, 0.0)</td>\n    </tr>\n    <tr>\n      <th>4</th>\n      <td>200</td>\n      <td>42.040430</td>\n      <td>31.669377</td>\n      <td>19.765244</td>\n      <td>200</td>\n      <td>0.01</td>\n      <td>5</td>\n      <td>2</td>\n      <td>(0.3, 0.2, 0.6, 0.5, 0.2, 0.1, 0.0)</td>\n    </tr>\n  </tbody>\n</table>\n</div>"
     },
     "execution_count": 6,
     "metadata": {},
     "output_type": "execute_result"
    }
   ],
   "source": [
    "if generate_new:\n",
    "    l2_df = l2_param_sweep.get_model_vars_dataframe()\n",
    "    l2_df_sorted = l2_df.sort_values('Averaged_Power')\n",
    "    # SAVE TO FILE\n",
    "    # time_str = time.strftime('%y%m%d_%H%M')\n",
    "    # l2_df_sorted.to_pickle('data/l2_genetic_df_' + time_str + '.pkl')\n",
    "else:\n",
    "    # LOAD FROM FILE\n",
    "    l2_df = pd.read_pickle(l2_load_file)\n",
    "\n",
    "l2_df.head()\n"
   ],
   "metadata": {
    "collapsed": false,
    "pycharm": {
     "name": "#%%\n"
    }
   }
  },
  {
   "cell_type": "code",
   "execution_count": 9,
   "outputs": [
    {
     "name": "stdout",
     "output_type": "stream",
     "text": [
      "\n",
      "(47.00065833333335, 18.429324458590447, 65.33897)\n",
      "(36.61533203994507, 19.765243699385277, 31.432793624786623)\n",
      "\n",
      "0\n",
      "8.384667960054927\n"
     ]
    }
   ],
   "source": [
    "l1_results3 = (np.average(l1_df.Averaged_Perceived_Lighting),\n",
    "              np.average(l1_df.Max_STD_Perceived_Lighting),\n",
    "              np.average(l1_df.Averaged_Power))\n",
    "\n",
    "l2_results3 = (np.average(l2_df.Averaged_Perceived_Lighting),\n",
    "              np.average(l2_df.Max_STD_Perceived_Lighting),\n",
    "              np.average(l2_df.Averaged_Power))\n",
    "\n",
    "print()\n",
    "print(l1_results3)\n",
    "print(l2_results3)\n",
    "\n",
    "l1_perceived_lighting = np.average(l1_df.Averaged_Perceived_Lighting)\n",
    "l1_perceived_lighting_error = max(45 - l1_perceived_lighting, 0)\n",
    "\n",
    "l2_perceived_lighting = np.average(l2_df.Averaged_Perceived_Lighting)\n",
    "l2_perceived_lighting_error = max(45 - l2_perceived_lighting, 0)\n",
    "\n",
    "print()\n",
    "print(l1_perceived_lighting_error)\n",
    "print(l2_perceived_lighting_error)"
   ],
   "metadata": {
    "collapsed": false,
    "pycharm": {
     "name": "#%%\n"
    }
   }
  }
 ],
 "metadata": {
  "kernelspec": {
   "name": "python3",
   "language": "python",
   "display_name": "Python 3"
  },
  "language_info": {
   "codemirror_mode": {
    "name": "ipython",
    "version": 3
   },
   "file_extension": ".py",
   "mimetype": "text/x-python",
   "name": "python",
   "nbconvert_exporter": "python",
   "pygments_lexer": "ipython3",
   "version": "3.6.6"
  },
  "widgets": {
   "state": {},
   "version": "1.1.2"
  }
 },
 "nbformat": 4,
 "nbformat_minor": 1
}