{
 "cells": [
  {
   "cell_type": "markdown",
   "source": [
    "# Analysis of the Probability of Randomisation\n"
   ],
   "metadata": {
    "collapsed": false
   }
  },
  {
   "cell_type": "markdown",
   "source": [
    "## 3x10^3 iterations of 10^3 runs varying the probability of randomisation\n",
    "\n",
    "First we need to choose the most appropriate p_randomisation for this project to get consistent,\n",
    "valuable results.\n",
    "\n",
    "Running multiple iterations of the model and varying some parameters is the best way to do this.\n",
    "Here we set up the batch runner and vary the \"vehicle_density\", and the \"p_randomisation\" to see how\n",
    "one effects the other.\n",
    "\n",
    "SETUP:"
   ],
   "metadata": {
    "collapsed": false
   }
  },
  {
   "cell_type": "code",
   "execution_count": null,
   "outputs": [],
   "source": [
    "from model import NaSchTraffic\n",
    "from mesa.batchrunner import BatchRunner\n",
    "\n",
    "import seaborn as sns\n",
    "import matplotlib as mpl\n",
    "import matplotlib.pyplot as plt\n",
    "import numpy as np\n",
    "import pandas as pd\n",
    "import time\n",
    "\n",
    "from matplotlib.colors import LinearSegmentedColormap\n",
    "from matplotlib.ticker import MultipleLocator\n",
    "from numpy.random import default_rng\n",
    "\n",
    "rng = default_rng()\n",
    "\n",
    "sns.set_theme()\n",
    "plt.rcParams['figure.figsize'] = [10, 7]\n",
    "plt.rcParams['figure.dpi'] = 300\n",
    "\n",
    "generate_new = False\n",
    "load_file = \"data/p_rand_df_\" + \"20-04-2021\" + \".pkl\""
   ],
   "metadata": {
    "collapsed": false,
    "pycharm": {
     "name": "#%%\n"
    }
   }
  },
  {
   "cell_type": "code",
   "execution_count": null,
   "outputs": [],
   "source": [
    "if generate_new:\n",
    "    def get_average_speed(model):\n",
    "        \"\"\"\n",
    "        Find the average speed of all the agents over the steps after equilibrium is reached.\n",
    "        \"\"\"\n",
    "        selected_speeds = model.speed_averages[200:]\n",
    "\n",
    "        return sum(selected_speeds) / len(selected_speeds)\n",
    "\n",
    "    def get_average_density(model):\n",
    "        \"\"\"\n",
    "        Find the average density of all the agents over the steps after equilibrium is reached.\n",
    "        \"\"\"\n",
    "        selected_densities = model.densities[200:]\n",
    "\n",
    "        return sum(selected_densities) / len(selected_densities)\n",
    "\n",
    "    def get_average_flow(model):\n",
    "        \"\"\"\n",
    "        Find the average flow of all the agents over the steps after equilibrium is reached.\n",
    "        \"\"\"\n",
    "        selected_flows = model.flows[200:]\n",
    "\n",
    "        return float(sum(selected_flows)) / len(selected_flows)\n",
    "\n",
    "    model_reporters_pr={\n",
    "        \"Averaged_Speed\": get_average_speed,\n",
    "        \"Averaged_Density\": get_average_density,\n",
    "        \"Averaged_Flow\": get_average_flow,\n",
    "    }\n",
    "\n",
    "    density_distro = rng.uniform(low=0.01, high=0.3, size=60)\n",
    "    p_distro = np.linspace(0.1, 0.6, 12)\n",
    "\n",
    "    fixed_params_pr = {\"height\": 1, \"width\": 200, \"general_max_speed\": 5}\n",
    "    variable_params_pr = { \"vehicle_density\": density_distro, \"p_randomisation\": p_distro}\n",
    "\n",
    "    param_sweep_pr = BatchRunner(NaSchTraffic,\n",
    "                              variable_parameters=variable_params_pr, fixed_parameters=fixed_params_pr,\n",
    "                              iterations=4,\n",
    "                              max_steps=800,\n",
    "                              model_reporters=model_reporters_pr,\n",
    "                              display_progress=True)\n",
    "\n",
    "    print(\"Running \" + str(4*12*60) +\" model iterations:\")\n",
    "    param_sweep_pr.run_all()"
   ],
   "metadata": {
    "collapsed": false,
    "pycharm": {
     "name": "#%%\n"
    }
   }
  },
  {
   "cell_type": "markdown",
   "source": [
    "To visualise this the data is put into a dataframe for plotting.\n",
    "In the case that the data has already been generated we can load it\n",
    "from a file rather than run the model again."
   ],
   "metadata": {
    "collapsed": false
   }
  },
  {
   "cell_type": "code",
   "execution_count": null,
   "outputs": [],
   "source": [
    "if generate_new:\n",
    "    df_pr = param_sweep_pr.get_model_vars_dataframe()\n",
    "    df_pr_sorted = df_pr.sort_values('Averaged_Density')\n",
    "\n",
    "    # SAVE TO FILE\n",
    "    time_str = time.strftime(\"%y%m%d_%H%M\")\n",
    "    df_pr_sorted.to_pickle(\"data/p_rand_df_\" + time_str + \".pkl\")\n",
    "else:\n",
    "    # LOAD FROM FILE\n",
    "    df_pr_sorted = pd.read_pickle(load_file)\n",
    "\n",
    "df_pr_sorted.head()"
   ],
   "metadata": {
    "collapsed": false,
    "pycharm": {
     "name": "#%%\n"
    }
   }
  },
  {
   "cell_type": "markdown",
   "source": [
    "Impact of the probability of speed randomisation:"
   ],
   "metadata": {
    "collapsed": false
   }
  },
  {
   "cell_type": "code",
   "execution_count": null,
   "outputs": [],
   "source": [
    "colors = [(0, 0.25, 0.75), (0.9, 0.1, 0.1)] # Experiment with this\n",
    "cm_rand = LinearSegmentedColormap.from_list('test', colors, N=6, gamma=0.8)\n",
    "\n",
    "fig, (ax1, ax2, ax3) = plt.subplots(3, 1)\n",
    "fig.tight_layout()\n",
    "\n",
    "ax1.scatter(df_pr_sorted.Averaged_Density, df_pr_sorted.Averaged_Flow, c=df_pr_sorted.p_randomisation, cmap=cm_rand, s=6, alpha=0.6)\n",
    "ax1.set(xlabel='Density (cars per site)', ylabel='Flow')\n",
    "ax1.set_xticks(np.arange(0, 1, step=0.1))\n",
    "ax1.set_yticks(np.arange(0, 0.9, step=0.1))\n",
    "ax1.grid(True)\n",
    "\n",
    "ax2.scatter(df_pr_sorted.Averaged_Density, df_pr_sorted.Averaged_Speed, c=df_pr_sorted.p_randomisation, cmap=cm_rand, s=6, alpha=0.6)\n",
    "ax2.set(xlabel='Density (cars per site)', ylabel='Mean Speed')\n",
    "ax2.set_xticks(np.arange(0, 1, step=0.1))\n",
    "ax2.set_yticks(np.arange(0, 7, step=1))\n",
    "ax2.grid(True)\n",
    "\n",
    "chart=ax3.scatter(df_pr_sorted.Averaged_Flow, df_pr_sorted.Averaged_Speed, c=df_pr_sorted.p_randomisation, cmap=cm_rand, s=6, alpha=0.6)\n",
    "ax3.set(xlabel='Flow (cars per time step)', ylabel='Mean Speed')\n",
    "ax3.set_xticks(np.arange(0, 0.9, step=0.1))\n",
    "ax3.set_yticks(np.arange(0, 7, step=1))\n",
    "ax3.grid(True)\n",
    "\n",
    "fig.subplots_adjust(right=0.8, left=0.08)\n",
    "cbar_ax = fig.add_axes([0.85, 0.15, 0.05, 0.7])\n",
    "bar = fig.colorbar(chart, cax=cbar_ax)\n",
    "bar.set_label('Probability of Randomisation')\n",
    "bar.set_alpha(1)\n",
    "bar.draw_all()\n",
    "\n",
    "time_str = time.strftime(\"%y%m%d_%H%M\")\n",
    "fig.savefig(\"img/p_random_3000_color_scatter\" + time_str + \".png\")\n",
    "plt.show()"
   ],
   "metadata": {
    "collapsed": false,
    "pycharm": {
     "name": "#%%\n"
    }
   }
  }
 ],
 "metadata": {
  "kernelspec": {
   "name": "python3",
   "language": "python",
   "display_name": "Python 3"
  },
  "language_info": {
   "codemirror_mode": {
    "name": "ipython",
    "version": 3
   },
   "file_extension": ".py",
   "mimetype": "text/x-python",
   "name": "python",
   "nbconvert_exporter": "python",
   "pygments_lexer": "ipython3",
   "version": "3.6.6"
  },
  "widgets": {
   "state": {},
   "version": "1.1.2"
  }
 },
 "nbformat": 4,
 "nbformat_minor": 1
}